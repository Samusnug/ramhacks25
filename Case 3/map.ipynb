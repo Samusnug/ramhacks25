{
 "cells": [
  {
   "cell_type": "code",
   "execution_count": 21,
   "id": "0e60686b",
   "metadata": {},
   "outputs": [],
   "source": [
    "import json\n",
    "import pandas as pd\n",
    "\n",
    "with open(\"phone_pings.json\", \"r\") as r:\n",
    "    p = r.read()\n",
    "\n",
    "x = json.loads(p)\n",
    "\n",
    "df = pd.DataFrame(x)\n",
    "\n",
    "with open(\"incident_reports.json\") as r:\n",
    "    p = r.read()\n",
    "\n",
    "df1 = pd.DataFrame(json.loads(p))\n",
    "\n",
    "df2 = pd.read_csv(\"cam_snapshots_metadata.csv\")\n",
    "df = pd.concat([df,df1], ignore_index=True)"
   ]
  },
  {
   "cell_type": "code",
   "execution_count": 23,
   "id": "09f70279",
   "metadata": {},
   "outputs": [],
   "source": [
    "with open(\"temp.json\") as r:\n",
    "    a = r.read()\n",
    "\n",
    "op = json.loads(a)"
   ]
  },
  {
   "cell_type": "code",
   "execution_count": 24,
   "id": "d47c6846",
   "metadata": {},
   "outputs": [
    {
     "data": {
      "application/vnd.plotly.v1+json": {
       "config": {
        "plotlyServerURL": "https://plot.ly"
       },
       "data": [
        {
         "customdata": [
          [
           "device_ithomas",
           "2025-03-04T02:24:00"
          ],
          [
           "device_ithomas",
           "2025-03-05T01:09:00"
          ],
          [
           "device_ithomas",
           "2025-03-05T01:45:00"
          ],
          [
           "device_ithomas",
           "2025-03-04T01:57:00"
          ],
          [
           "device_ithomas",
           "2025-03-03T01:56:00"
          ],
          [
           "device_ithomas",
           "2025-03-03T02:37:00"
          ],
          [
           "device_ithomas",
           "2025-03-05T01:07:00"
          ],
          [
           "device_ithomas",
           "2025-03-04T02:11:00"
          ],
          [
           "device_ithomas",
           "2025-03-04T02:18:00"
          ],
          [
           "device_ithomas",
           "2025-03-05T02:20:00"
          ]
         ],
         "hovertemplate": "<b>%{hovertext}</b><br><br>device_id=%{customdata[0]}<br>size=%{marker.size}<br>lat=%{lat}<br>lon=%{lon}<br>timestamp=%{customdata[1]}<extra></extra>",
         "hovertext": [
          "device_ithomas",
          "device_ithomas",
          "device_ithomas",
          "device_ithomas",
          "device_ithomas",
          "device_ithomas",
          "device_ithomas",
          "device_ithomas",
          "device_ithomas",
          "device_ithomas"
         ],
         "lat": {
          "bdata": "P6cgPxtZREBM+nspPFhEQAQfgxWnWkRACOV9HM1XRECM17yqs1hEQGTo2EElXERAj26ERUVYREAnM95WellEQOaw+47hW0RAgnAFFOpZREA=",
          "dtype": "f8"
         },
         "legendgroup": "device_ithomas",
         "lon": {
          "bdata": "DmWoiql7UsA8UKc8unpSwKaZ7nVSeVLAf9k9eVh7UsBVT+YffXlSwI48EFmkeVLAtMwiFFt5UsDACBoziXpSwOylKQKceVLAKZKvBFJ5UsA=",
          "dtype": "f8"
         },
         "marker": {
          "color": "#636efa",
          "size": {
           "bdata": "AQEBAQEBAQEBAQ==",
           "dtype": "i1"
          },
          "sizemode": "area",
          "sizeref": 0.015625
         },
         "mode": "markers",
         "name": "device_ithomas",
         "showlegend": true,
         "subplot": "map",
         "type": "scattermap"
        },
        {
         "customdata": [
          [
           "device_ddavis",
           "2025-03-05T02:56:00"
          ],
          [
           "device_ddavis",
           "2025-03-04T02:43:00"
          ],
          [
           "device_ddavis",
           "2025-03-04T03:04:00"
          ],
          [
           "device_ddavis",
           "2025-03-04T01:56:00"
          ],
          [
           "device_ddavis",
           "2025-03-05T02:49:00"
          ],
          [
           "device_ddavis",
           "2025-03-03T02:30:00"
          ],
          [
           "device_ddavis",
           "2025-03-05T02:37:00"
          ],
          [
           "device_ddavis",
           "2025-03-05T01:12:00"
          ],
          [
           "device_ddavis",
           "2025-03-03T03:29:00"
          ],
          [
           "device_ddavis",
           "2025-03-03T02:24:00"
          ],
          [
           "device_ddavis",
           "2025-03-04T03:17:00"
          ],
          [
           "device_ddavis",
           "2025-03-05T03:24:00"
          ],
          [
           "device_ddavis",
           "2025-03-03T03:27:00"
          ],
          [
           "device_ddavis",
           "2025-03-03T01:52:00"
          ],
          [
           "device_ddavis",
           "2025-03-04T01:32:00"
          ]
         ],
         "hovertemplate": "<b>%{hovertext}</b><br><br>device_id=%{customdata[0]}<br>size=%{marker.size}<br>lat=%{lat}<br>lon=%{lon}<br>timestamp=%{customdata[1]}<extra></extra>",
         "hovertext": [
          "device_ddavis",
          "device_ddavis",
          "device_ddavis",
          "device_ddavis",
          "device_ddavis",
          "device_ddavis",
          "device_ddavis",
          "device_ddavis",
          "device_ddavis",
          "device_ddavis",
          "device_ddavis",
          "device_ddavis",
          "device_ddavis",
          "device_ddavis",
          "device_ddavis"
         ],
         "lat": {
          "bdata": "DRgkfVpZREAstklFY1tEQDRlpx/UV0RAswqbAS5aREAQH9jxX1hEQCwOZ341WURA2uGvyRpZRECZuFUQA1lEQG4WLxaGXERA6PnTRnVaREBYcD/ggVtEQJc5XRYTW0RAlpUmpaBZREDGGFjH8VtEQEvoLomzXERA",
          "dtype": "f8"
         },
         "legendgroup": "device_ddavis",
         "lon": {
          "bdata": "GqTgKeR5UsAvUb01sHlSwMed0sH6elLAiPIFLSR7UsAzb9V1qHpSwDi6SnfXelLAPIVcqWd5UsAe/wWCAHtSwFETfT7Ke1LAQSrFjsZ6UsBzS6shcXpSwB9lxAWge1LAml5iLNN7UsBckC3L13pSwMhe7/54elLA",
          "dtype": "f8"
         },
         "marker": {
          "color": "#EF553B",
          "size": {
           "bdata": "AQEBAQEBAQEBAQEBAQEB",
           "dtype": "i1"
          },
          "sizemode": "area",
          "sizeref": 0.015625
         },
         "mode": "markers",
         "name": "device_ddavis",
         "showlegend": true,
         "subplot": "map",
         "type": "scattermap"
        },
        {
         "customdata": [
          [
           "device_ruth",
           "2025-03-03T02:51:00"
          ],
          [
           "device_ruth",
           "2025-03-05T02:02:00"
          ],
          [
           "device_ruth",
           "2025-03-04T02:45:00"
          ],
          [
           "device_ruth",
           "2025-03-04T02:36:00"
          ],
          [
           "device_ruth",
           "2025-03-04T02:12:00"
          ],
          [
           "device_ruth",
           "2025-03-03T02:07:00"
          ],
          [
           "device_ruth",
           "2025-03-03T02:35:00"
          ]
         ],
         "hovertemplate": "<b>%{hovertext}</b><br><br>device_id=%{customdata[0]}<br>size=%{marker.size}<br>lat=%{lat}<br>lon=%{lon}<br>timestamp=%{customdata[1]}<extra></extra>",
         "hovertext": [
          "device_ruth",
          "device_ruth",
          "device_ruth",
          "device_ruth",
          "device_ruth",
          "device_ruth",
          "device_ruth"
         ],
         "lat": {
          "bdata": "bqZCPBJZREDUmuYdp1pEQP32deCcWURA/fZ14JxZRED99nXgnFlEQAwepn1zW0RAzXhb6bVZREA=",
          "dtype": "f8"
         },
         "legendgroup": "device_ruth",
         "lon": {
          "bdata": "M1LvqZx6UsDw2xDjNXpSwGZmZmZmelLAZmZmZmZ6UsBmZmZmZnpSwLrZHyi3elLAMT83NGV6UsA=",
          "dtype": "f8"
         },
         "marker": {
          "color": "#00cc96",
          "size": {
           "bdata": "AQEBAQEBAQ==",
           "dtype": "i1"
          },
          "sizemode": "area",
          "sizeref": 0.015625
         },
         "mode": "markers",
         "name": "device_ruth",
         "showlegend": true,
         "subplot": "map",
         "type": "scattermap"
        },
        {
         "customdata": [
          [
           "device_6c1f9c",
           "2025-03-05T02:09:00"
          ],
          [
           "device_6c1f9c",
           "2025-03-05T02:35:00"
          ],
          [
           "device_6c1f9c",
           "2025-03-04T02:25:00"
          ],
          [
           "device_6c1f9c",
           "2025-03-04T02:41:00"
          ],
          [
           "device_6c1f9c",
           "2025-03-03T02:03:00"
          ],
          [
           "device_6c1f9c",
           "2025-03-04T02:36:00"
          ],
          [
           "device_6c1f9c",
           "2025-03-03T02:43:00"
          ],
          [
           "device_6c1f9c",
           "2025-03-05T02:27:00"
          ],
          [
           "device_6c1f9c",
           "2025-03-05T02:14:00"
          ]
         ],
         "hovertemplate": "<b>%{hovertext}</b><br><br>device_id=%{customdata[0]}<br>size=%{marker.size}<br>lat=%{lat}<br>lon=%{lon}<br>timestamp=%{customdata[1]}<extra></extra>",
         "hovertext": [
          "device_6c1f9c",
          "device_6c1f9c",
          "device_6c1f9c",
          "device_6c1f9c",
          "device_6c1f9c",
          "device_6c1f9c",
          "device_6c1f9c",
          "device_6c1f9c",
          "device_6c1f9c"
         ],
         "lat": {
          "bdata": "I7pnXaNZREDfFcH/VlpEQIhLjjulWURA1ZXP8jxaRECV88Xei1lEQC1CsRU0W0RACk0SS8pZREBVvmckQltEQMmvH2KDW0RA",
          "dtype": "f8"
         },
         "legendgroup": "device_6c1f9c",
         "lon": {
          "bdata": "P8iyYOJ6UsB1WUxsPnpSwOWzPA/uelLAvF0vTRF6UsDx8nSuKHtSwOUoQBTMelLAGVWGcTd6UsCIghlTsHpSwLCSj90Fe1LA",
          "dtype": "f8"
         },
         "marker": {
          "color": "#ab63fa",
          "size": {
           "bdata": "AQEBAQEBAQEB",
           "dtype": "i1"
          },
          "sizemode": "area",
          "sizeref": 0.015625
         },
         "mode": "markers",
         "name": "device_6c1f9c",
         "showlegend": true,
         "subplot": "map",
         "type": "scattermap"
        },
        {
         "customdata": [
          [
           "device_jeffrey28",
           "2025-03-03T03:09:00"
          ],
          [
           "device_jeffrey28",
           "2025-03-04T01:40:00"
          ],
          [
           "device_jeffrey28",
           "2025-03-04T02:13:00"
          ],
          [
           "device_jeffrey28",
           "2025-03-05T01:35:00"
          ],
          [
           "device_jeffrey28",
           "2025-03-03T01:31:00"
          ],
          [
           "device_jeffrey28",
           "2025-03-03T03:15:00"
          ],
          [
           "device_jeffrey28",
           "2025-03-03T02:53:00"
          ],
          [
           "device_jeffrey28",
           "2025-03-03T01:12:00"
          ],
          [
           "device_jeffrey28",
           "2025-03-04T02:10:00"
          ],
          [
           "device_jeffrey28",
           "2025-03-05T01:39:00"
          ],
          [
           "device_jeffrey28",
           "2025-03-04T02:06:00"
          ],
          [
           "device_jeffrey28",
           "2025-03-04T02:01:00"
          ]
         ],
         "hovertemplate": "<b>%{hovertext}</b><br><br>device_id=%{customdata[0]}<br>size=%{marker.size}<br>lat=%{lat}<br>lon=%{lon}<br>timestamp=%{customdata[1]}<extra></extra>",
         "hovertext": [
          "device_jeffrey28",
          "device_jeffrey28",
          "device_jeffrey28",
          "device_jeffrey28",
          "device_jeffrey28",
          "device_jeffrey28",
          "device_jeffrey28",
          "device_jeffrey28",
          "device_jeffrey28",
          "device_jeffrey28",
          "device_jeffrey28",
          "device_jeffrey28"
         ],
         "lat": {
          "bdata": "WcAEbt1ZREAxeQPMfFtEQI1/n3HhWERAd7rzxHNYREA/U69bBFpEQOG2tvC8XERAayi1F9FaREC6S+KsiFpEQBx4tdyZW0RAUFJgAUxbREC1qE9yh1tEQAdF8wAWWURA",
          "dtype": "f8"
         },
         "legendgroup": "device_jeffrey28",
         "lon": {
          "bdata": "J4QOuoR5UsB/bf30n3pSwMHG9e/6elLAWvROBdx6UsC8yW/RyXlSwAytTs5QelLA9Gvrp/95UsC0PXrDfXlSwAvtnGaBelLAs7ES86x7UsDb3JiesHlSwAWHF0Ske1LA",
          "dtype": "f8"
         },
         "marker": {
          "color": "#FFA15A",
          "size": {
           "bdata": "AQEBAQEBAQEBAQEB",
           "dtype": "i1"
          },
          "sizemode": "area",
          "sizeref": 0.015625
         },
         "mode": "markers",
         "name": "device_jeffrey28",
         "showlegend": true,
         "subplot": "map",
         "type": "scattermap"
        },
        {
         "customdata": [
          [
           "device_jason76",
           "2025-03-05T02:25:00"
          ],
          [
           "device_jason76",
           "2025-03-03T01:38:00"
          ],
          [
           "device_jason76",
           "2025-03-03T02:07:00"
          ],
          [
           "device_jason76",
           "2025-03-04T02:50:00"
          ],
          [
           "device_jason76",
           "2025-03-05T02:03:00"
          ],
          [
           "device_jason76",
           "2025-03-05T01:41:00"
          ],
          [
           "device_jason76",
           "2025-03-05T02:45:00"
          ],
          [
           "device_jason76",
           "2025-03-03T01:11:00"
          ],
          [
           "device_jason76",
           "2025-03-04T02:03:00"
          ],
          [
           "device_jason76",
           "2025-03-03T02:49:00"
          ],
          [
           "device_jason76",
           "2025-03-04T01:10:00"
          ],
          [
           "device_jason76",
           "2025-03-05T01:39:00"
          ]
         ],
         "hovertemplate": "<b>%{hovertext}</b><br><br>device_id=%{customdata[0]}<br>size=%{marker.size}<br>lat=%{lat}<br>lon=%{lon}<br>timestamp=%{customdata[1]}<extra></extra>",
         "hovertext": [
          "device_jason76",
          "device_jason76",
          "device_jason76",
          "device_jason76",
          "device_jason76",
          "device_jason76",
          "device_jason76",
          "device_jason76",
          "device_jason76",
          "device_jason76",
          "device_jason76",
          "device_jason76"
         ],
         "lat": {
          "bdata": "6KT3ja9bRECSA3Y1eVpEQHCyDdyBWERAe4SaIVVYREAYX7THC1lEQPtd2JqtXERA2CyXjc5XREDajqm7sldEQF8oYDsYW0RArAFKQ41aREBAaahRSFxEQF7ZBYNrXERA",
          "dtype": "f8"
         },
         "legendgroup": "device_jason76",
         "lon": {
          "bdata": "Llc/Nsl6UsA5Y5gTtHlSwDgvTny1elLABcB4Bg17UsBwsaIG03lSwIpYxLDDeVLAWRR2UfR5UsD04O6s3XlSwBrba0HvelLAEce6uI17UsCX5IBdTXtSwMobYOY7e1LA",
          "dtype": "f8"
         },
         "marker": {
          "color": "#19d3f3",
          "size": {
           "bdata": "AQEBAQEBAQEBAQEB",
           "dtype": "i1"
          },
          "sizemode": "area",
          "sizeref": 0.015625
         },
         "mode": "markers",
         "name": "device_jason76",
         "showlegend": true,
         "subplot": "map",
         "type": "scattermap"
        },
        {
         "customdata": [
          [
           "device_zhurst",
           "2025-03-04T01:43:00"
          ],
          [
           "device_zhurst",
           "2025-03-04T01:50:00"
          ],
          [
           "device_zhurst",
           "2025-03-05T03:06:00"
          ],
          [
           "device_zhurst",
           "2025-03-04T02:25:00"
          ],
          [
           "device_zhurst",
           "2025-03-03T03:28:00"
          ],
          [
           "device_zhurst",
           "2025-03-05T01:18:00"
          ],
          [
           "device_zhurst",
           "2025-03-04T02:53:00"
          ],
          [
           "device_zhurst",
           "2025-03-05T01:01:00"
          ],
          [
           "device_zhurst",
           "2025-03-04T02:00:00"
          ],
          [
           "device_zhurst",
           "2025-03-03T02:17:00"
          ],
          [
           "device_zhurst",
           "2025-03-05T01:27:00"
          ],
          [
           "device_zhurst",
           "2025-03-05T03:27:00"
          ]
         ],
         "hovertemplate": "<b>%{hovertext}</b><br><br>device_id=%{customdata[0]}<br>size=%{marker.size}<br>lat=%{lat}<br>lon=%{lon}<br>timestamp=%{customdata[1]}<extra></extra>",
         "hovertext": [
          "device_zhurst",
          "device_zhurst",
          "device_zhurst",
          "device_zhurst",
          "device_zhurst",
          "device_zhurst",
          "device_zhurst",
          "device_zhurst",
          "device_zhurst",
          "device_zhurst",
          "device_zhurst",
          "device_zhurst"
         ],
         "lat": {
          "bdata": "fPDapQ1bREBWgO82b1hEQBh6xOi5WURAJ07udyhYREAWFXE6yVpEQOF+wAMDWkRAmnecoiNbRED3Ax4YQFxEQKLQsu4fW0RARrWIKCZZREBQOpFgqltEQOM1r+qsWERA",
          "dtype": "f8"
         },
         "legendgroup": "device_zhurst",
         "lon": {
          "bdata": "6/6xEB17UsCzzvi+uHtSwPNzQ1N2e1LANsgkI2d5UsAiVKnZA3tSwAN9Ik+SeVLAW11OCYh6UsBxV68io3lSwNdoOdBDe1LA1Qj9TL16UsBBg02dR3tSwJ+sGK4OelLA",
          "dtype": "f8"
         },
         "marker": {
          "color": "#FF6692",
          "size": {
           "bdata": "AQEBAQEBAQEBAQEB",
           "dtype": "i1"
          },
          "sizemode": "area",
          "sizeref": 0.015625
         },
         "mode": "markers",
         "name": "device_zhurst",
         "showlegend": true,
         "subplot": "map",
         "type": "scattermap"
        },
        {
         "customdata": [
          [
           "device_ogray",
           "2025-03-05T01:27:00"
          ],
          [
           "device_ogray",
           "2025-03-03T02:24:00"
          ],
          [
           "device_ogray",
           "2025-03-04T03:01:00"
          ],
          [
           "device_ogray",
           "2025-03-04T03:26:00"
          ],
          [
           "device_ogray",
           "2025-03-03T01:58:00"
          ],
          [
           "device_ogray",
           "2025-03-04T02:45:00"
          ],
          [
           "device_ogray",
           "2025-03-04T01:54:00"
          ],
          [
           "device_ogray",
           "2025-03-05T01:15:00"
          ],
          [
           "device_ogray",
           "2025-03-04T01:24:00"
          ]
         ],
         "hovertemplate": "<b>%{hovertext}</b><br><br>device_id=%{customdata[0]}<br>size=%{marker.size}<br>lat=%{lat}<br>lon=%{lon}<br>timestamp=%{customdata[1]}<extra></extra>",
         "hovertext": [
          "device_ogray",
          "device_ogray",
          "device_ogray",
          "device_ogray",
          "device_ogray",
          "device_ogray",
          "device_ogray",
          "device_ogray",
          "device_ogray"
         ],
         "lat": {
          "bdata": "Nj6T/fNYREDXicvxClhEQN21hHzQW0RAxf8dUaFaRECGyypsBlhEQIboEDgSWkRACK9d2nBaREDyBwPPvVlEQI5bzM8NW0RA",
          "dtype": "f8"
         },
         "legendgroup": "device_ogray",
         "lon": {
          "bdata": "nKT5Y1p7UsCIRncQO3tSwFu1a0Jae1LAJemayTd7UsCd9/9xwntSwG+gwDv5eVLAH4E//Px5UsCZZyWt+HpSwG5PkNjuelLA",
          "dtype": "f8"
         },
         "marker": {
          "color": "#B6E880",
          "size": {
           "bdata": "AQEBAQEBAQEB",
           "dtype": "i1"
          },
          "sizemode": "area",
          "sizeref": 0.015625
         },
         "mode": "markers",
         "name": "device_ogray",
         "showlegend": true,
         "subplot": "map",
         "type": "scattermap"
        },
        {
         "customdata": [
          [
           "device_119396",
           "2025-03-05T02:42:00"
          ],
          [
           "device_119396",
           "2025-03-05T02:44:00"
          ],
          [
           "device_119396",
           "2025-03-03T02:05:00"
          ],
          [
           "device_119396",
           "2025-03-05T02:33:00"
          ],
          [
           "device_119396",
           "2025-03-04T02:10:00"
          ],
          [
           "device_119396",
           "2025-03-05T02:13:00"
          ],
          [
           "device_119396",
           "2025-03-04T02:08:00"
          ]
         ],
         "hovertemplate": "<b>%{hovertext}</b><br><br>device_id=%{customdata[0]}<br>size=%{marker.size}<br>lat=%{lat}<br>lon=%{lon}<br>timestamp=%{customdata[1]}<extra></extra>",
         "hovertext": [
          "device_119396",
          "device_119396",
          "device_119396",
          "device_119396",
          "device_119396",
          "device_119396",
          "device_119396"
         ],
         "lat": {
          "bdata": "FNGvrZ9aREBuE+6VeVlEQNr/AGvVWkRAkrOwpx1aRECVLZJ2o1lEQJKSHoZWW0RAahg+IqZaREA=",
          "dtype": "f8"
         },
         "legendgroup": "device_119396",
         "lon": {
          "bdata": "j1a1pKN6UsBQq+gPzXpSwOChKNAnelLAkjzX9+F6UsDvHMpQFXpSwNDyPLg7elLAZ0eq7/x5UsA=",
          "dtype": "f8"
         },
         "marker": {
          "color": "#FF97FF",
          "size": {
           "bdata": "AQEBAQEBAQ==",
           "dtype": "i1"
          },
          "sizemode": "area",
          "sizeref": 0.015625
         },
         "mode": "markers",
         "name": "device_119396",
         "showlegend": true,
         "subplot": "map",
         "type": "scattermap"
        },
        {
         "customdata": [
          [
           "device_89fdef",
           "2025-03-03T02:54:00"
          ],
          [
           "device_89fdef",
           "2025-03-04T02:44:00"
          ],
          [
           "device_89fdef",
           "2025-03-05T02:34:00"
          ],
          [
           "device_89fdef",
           "2025-03-04T02:23:00"
          ],
          [
           "device_89fdef",
           "2025-03-05T02:24:00"
          ],
          [
           "device_89fdef",
           "2025-03-04T02:29:00"
          ]
         ],
         "hovertemplate": "<b>%{hovertext}</b><br><br>device_id=%{customdata[0]}<br>size=%{marker.size}<br>lat=%{lat}<br>lon=%{lon}<br>timestamp=%{customdata[1]}<extra></extra>",
         "hovertext": [
          "device_89fdef",
          "device_89fdef",
          "device_89fdef",
          "device_89fdef",
          "device_89fdef",
          "device_89fdef"
         ],
         "lat": {
          "bdata": "nznrU45ZREC5iVqaW1tEQBdmoZ3TWkRA1q2ek95ZREBXk6espllEQO91Ul+WWkRA",
          "dtype": "f8"
         },
         "legendgroup": "device_89fdef",
         "lon": {
          "bdata": "LLe0GhJ7UsBMa9PYXnpSwE/rNqj9elLAhsq/lld6UsB7hQX3A3pSwDscXaW7elLA",
          "dtype": "f8"
         },
         "marker": {
          "color": "#FECB52",
          "size": {
           "bdata": "AQEBAQEB",
           "dtype": "i1"
          },
          "sizemode": "area",
          "sizeref": 0.015625
         },
         "mode": "markers",
         "name": "device_89fdef",
         "showlegend": true,
         "subplot": "map",
         "type": "scattermap"
        },
        {
         "customdata": [
          [
           "device_julieryan",
           "2025-03-03T02:38:00"
          ],
          [
           "device_julieryan",
           "2025-03-03T01:11:00"
          ],
          [
           "device_julieryan",
           "2025-03-04T01:31:00"
          ],
          [
           "device_julieryan",
           "2025-03-04T02:33:00"
          ],
          [
           "device_julieryan",
           "2025-03-05T03:25:00"
          ],
          [
           "device_julieryan",
           "2025-03-05T02:37:00"
          ],
          [
           "device_julieryan",
           "2025-03-05T02:44:00"
          ],
          [
           "device_julieryan",
           "2025-03-05T03:21:00"
          ],
          [
           "device_julieryan",
           "2025-03-04T02:24:00"
          ]
         ],
         "hovertemplate": "<b>%{hovertext}</b><br><br>device_id=%{customdata[0]}<br>size=%{marker.size}<br>lat=%{lat}<br>lon=%{lon}<br>timestamp=%{customdata[1]}<extra></extra>",
         "hovertext": [
          "device_julieryan",
          "device_julieryan",
          "device_julieryan",
          "device_julieryan",
          "device_julieryan",
          "device_julieryan",
          "device_julieryan",
          "device_julieryan",
          "device_julieryan"
         ],
         "lat": {
          "bdata": "+IiYEklcREDSyOcVT1tEQB4bgXhdW0RAesa+ZONZREDdCIuKOFlEQPNaCd0lW0RAFAmmmllZRECZnUXvVFhEQEFK7NreWkRA",
          "dtype": "f8"
         },
         "legendgroup": "device_julieryan",
         "lon": {
          "bdata": "JVryeFp7UsD4/gbt1XtSwIboEDgSe1LAlYJuL2l5UsAm4q3zb3pSwBSxiGGHeVLAyXN9Hw56UsCocW9+w3pSwOIjYkokelLA",
          "dtype": "f8"
         },
         "marker": {
          "color": "#636efa",
          "size": {
           "bdata": "AQEBAQEBAQEB",
           "dtype": "i1"
          },
          "sizemode": "area",
          "sizeref": 0.015625
         },
         "mode": "markers",
         "name": "device_julieryan",
         "showlegend": true,
         "subplot": "map",
         "type": "scattermap"
        },
        {
         "customdata": [
          [
           "device_gabriellecameron",
           "2025-03-03T03:20:00"
          ],
          [
           "device_gabriellecameron",
           "2025-03-03T01:35:00"
          ],
          [
           "device_gabriellecameron",
           "2025-03-04T02:56:00"
          ],
          [
           "device_gabriellecameron",
           "2025-03-03T03:18:00"
          ],
          [
           "device_gabriellecameron",
           "2025-03-05T01:39:00"
          ],
          [
           "device_gabriellecameron",
           "2025-03-04T02:42:00"
          ],
          [
           "device_gabriellecameron",
           "2025-03-03T02:00:00"
          ],
          [
           "device_gabriellecameron",
           "2025-03-04T01:00:00"
          ],
          [
           "device_gabriellecameron",
           "2025-03-03T02:03:00"
          ],
          [
           "device_gabriellecameron",
           "2025-03-05T02:20:00"
          ],
          [
           "device_gabriellecameron",
           "2025-03-05T01:14:00"
          ],
          [
           "device_gabriellecameron",
           "2025-03-05T03:08:00"
          ],
          [
           "device_gabriellecameron",
           "2025-03-05T01:14:00"
          ]
         ],
         "hovertemplate": "<b>%{hovertext}</b><br><br>device_id=%{customdata[0]}<br>size=%{marker.size}<br>lat=%{lat}<br>lon=%{lon}<br>timestamp=%{customdata[1]}<extra></extra>",
         "hovertext": [
          "device_gabriellecameron",
          "device_gabriellecameron",
          "device_gabriellecameron",
          "device_gabriellecameron",
          "device_gabriellecameron",
          "device_gabriellecameron",
          "device_gabriellecameron",
          "device_gabriellecameron",
          "device_gabriellecameron",
          "device_gabriellecameron",
          "device_gabriellecameron",
          "device_gabriellecameron",
          "device_gabriellecameron"
         ],
         "lat": {
          "bdata": "d9hEZi5YRECkcD0K11lEQL5Nf/YjWURAgo3r3/VbRECTq1j8plhEQAKbc/BMXERAQxuADYhYREA8akyIuVxEQEVnmUUoXERApPs5BflXREDP9BJjmVxEQAMJih9jXERAoI1cN6VaREA=",
          "dtype": "f8"
         },
         "legendgroup": "device_gabriellecameron",
         "lon": {
          "bdata": "GTigpSt6UsB4CU59IHtSwI1BJ4QOelLAflcE/1t5UsD5oj1eSHtSwGqHvyZre1LAWcSww5h6UsDHKxA9KXtSwDTXaaSle1LAFD3wMVh6UsDLorCLontSwJ1jQPZ6elLA18IstHN6UsA=",
          "dtype": "f8"
         },
         "marker": {
          "color": "#EF553B",
          "size": {
           "bdata": "AQEBAQEBAQEBAQEBAQ==",
           "dtype": "i1"
          },
          "sizemode": "area",
          "sizeref": 0.015625
         },
         "mode": "markers",
         "name": "device_gabriellecameron",
         "showlegend": true,
         "subplot": "map",
         "type": "scattermap"
        },
        {
         "customdata": [
          [
           "device_kevin",
           "2025-03-03T02:35:00"
          ],
          [
           "device_kevin",
           "2025-03-04T02:13:00"
          ],
          [
           "device_kevin",
           "2025-03-04T02:14:00"
          ],
          [
           "device_kevin",
           "2025-03-04T02:55:00"
          ],
          [
           "device_kevin",
           "2025-03-04T02:44:00"
          ],
          [
           "device_kevin",
           "2025-03-05T02:24:00"
          ],
          [
           "device_kevin",
           "2025-03-05T02:18:00"
          ]
         ],
         "hovertemplate": "<b>%{hovertext}</b><br><br>device_id=%{customdata[0]}<br>size=%{marker.size}<br>lat=%{lat}<br>lon=%{lon}<br>timestamp=%{customdata[1]}<extra></extra>",
         "hovertext": [
          "device_kevin",
          "device_kevin",
          "device_kevin",
          "device_kevin",
          "device_kevin",
          "device_kevin",
          "device_kevin"
         ],
         "lat": {
          "bdata": "/tMNFHhZREA7URISaVtEQCF00CUcWkRA9zsUBfpYREAkJxO3ClpEQDi8ICI1WURAS8gHPZtZREA=",
          "dtype": "f8"
         },
         "legendgroup": "device_kevin",
         "lon": {
          "bdata": "vviiPV56UsCnPSXnxHpSwPewFwrYelLA5PbLJyt6UsBQ4nMn2HpSwIBIv30delLADk+vlGV6UsA=",
          "dtype": "f8"
         },
         "marker": {
          "color": "#00cc96",
          "size": {
           "bdata": "AQEBAQEBAQ==",
           "dtype": "i1"
          },
          "sizemode": "area",
          "sizeref": 0.015625
         },
         "mode": "markers",
         "name": "device_kevin",
         "showlegend": true,
         "subplot": "map",
         "type": "scattermap"
        },
        {
         "customdata": [
          [
           "device_jamal",
           "2025-03-05T02:05:00"
          ],
          [
           "device_jamal",
           "2025-03-04T02:34:00"
          ],
          [
           "device_jamal",
           "2025-03-05T02:20:00"
          ],
          [
           "device_jamal",
           "2025-03-04T02:47:00"
          ],
          [
           "device_jamal",
           "2025-03-03T02:01:00"
          ]
         ],
         "hovertemplate": "<b>%{hovertext}</b><br><br>device_id=%{customdata[0]}<br>size=%{marker.size}<br>lat=%{lat}<br>lon=%{lon}<br>timestamp=%{customdata[1]}<extra></extra>",
         "hovertext": [
          "device_jamal",
          "device_jamal",
          "device_jamal",
          "device_jamal",
          "device_jamal"
         ],
         "lat": {
          "bdata": "S1rxDYVZRECDbFm+LllEQGFUUiegWURAodY07zhZREDvVwG+21pEQA==",
          "dtype": "f8"
         },
         "legendgroup": "device_jamal",
         "lon": {
          "bdata": "uJVem416UsBosKnzqHpSwBiV1AloelLAo4/5gEB6UsD9vn/z4npSwA==",
          "dtype": "f8"
         },
         "marker": {
          "color": "#ab63fa",
          "size": {
           "bdata": "AQEBAQE=",
           "dtype": "i1"
          },
          "sizemode": "area",
          "sizeref": 0.015625
         },
         "mode": "markers",
         "name": "device_jamal",
         "showlegend": true,
         "subplot": "map",
         "type": "scattermap"
        },
        {
         "customdata": [
          [
           "device_richard13",
           "2025-03-04T03:21:00"
          ],
          [
           "device_richard13",
           "2025-03-05T01:13:00"
          ],
          [
           "device_richard13",
           "2025-03-05T02:27:00"
          ],
          [
           "device_richard13",
           "2025-03-04T01:34:00"
          ],
          [
           "device_richard13",
           "2025-03-03T01:40:00"
          ],
          [
           "device_richard13",
           "2025-03-05T02:07:00"
          ],
          [
           "device_richard13",
           "2025-03-04T02:16:00"
          ],
          [
           "device_richard13",
           "2025-03-03T01:17:00"
          ],
          [
           "device_richard13",
           "2025-03-04T03:15:00"
          ],
          [
           "device_richard13",
           "2025-03-03T03:09:00"
          ]
         ],
         "hovertemplate": "<b>%{hovertext}</b><br><br>device_id=%{customdata[0]}<br>size=%{marker.size}<br>lat=%{lat}<br>lon=%{lon}<br>timestamp=%{customdata[1]}<extra></extra>",
         "hovertext": [
          "device_richard13",
          "device_richard13",
          "device_richard13",
          "device_richard13",
          "device_richard13",
          "device_richard13",
          "device_richard13",
          "device_richard13",
          "device_richard13",
          "device_richard13"
         ],
         "lat": {
          "bdata": "CTTY1HlYREAogjgPJ1hEQJW1TfG4WERAZ2SQuwhZREBMx5xn7FlEQNdOlIREWkRA43DmV3NcRECJQzaQLlxEQAdDHVa4V0RAAWvVrglZREA=",
          "dtype": "f8"
         },
         "legendgroup": "device_richard13",
         "lon": {
          "bdata": "YhVvZB57UsBKtyVywXpSwHldv2A3elLAaaon8495UsCnWDUIc3pSwGPRdHYye1LALBA9KZN7UsAaijve5HpSwBWqm4u/eVLAbCbfbHN5UsA=",
          "dtype": "f8"
         },
         "marker": {
          "color": "#FFA15A",
          "size": {
           "bdata": "AQEBAQEBAQEBAQ==",
           "dtype": "i1"
          },
          "sizemode": "area",
          "sizeref": 0.015625
         },
         "mode": "markers",
         "name": "device_richard13",
         "showlegend": true,
         "subplot": "map",
         "type": "scattermap"
        },
        {
         "customdata": [
          [
           "device_perezantonio",
           "2025-03-03T01:17:00"
          ],
          [
           "device_perezantonio",
           "2025-03-04T02:47:00"
          ],
          [
           "device_perezantonio",
           "2025-03-04T02:20:00"
          ],
          [
           "device_perezantonio",
           "2025-03-05T03:24:00"
          ],
          [
           "device_perezantonio",
           "2025-03-05T02:16:00"
          ],
          [
           "device_perezantonio",
           "2025-03-05T01:18:00"
          ],
          [
           "device_perezantonio",
           "2025-03-03T02:00:00"
          ],
          [
           "device_perezantonio",
           "2025-03-05T02:01:00"
          ],
          [
           "device_perezantonio",
           "2025-03-03T03:25:00"
          ]
         ],
         "hovertemplate": "<b>%{hovertext}</b><br><br>device_id=%{customdata[0]}<br>size=%{marker.size}<br>lat=%{lat}<br>lon=%{lon}<br>timestamp=%{customdata[1]}<extra></extra>",
         "hovertext": [
          "device_perezantonio",
          "device_perezantonio",
          "device_perezantonio",
          "device_perezantonio",
          "device_perezantonio",
          "device_perezantonio",
          "device_perezantonio",
          "device_perezantonio",
          "device_perezantonio"
         ],
         "lat": {
          "bdata": "oS+9/blaREB3Z+22C1tEQO2CwTV3XERA1VktsMdcREB6UbtfBVpEQNxHbk26V0RAY0fjUL9ZREDXo3A9CllEQENU4c/wWERA",
          "dtype": "f8"
         },
         "legendgroup": "device_perezantonio",
         "lon": {
          "bdata": "/YNIhhx6UsCLijidZHpSwOi8xi5Re1LAS+XtCKd7UsCyhLUxdnlSwLYUkPY/elLAgGH58215UsDK/Q5FgXtSwJsff2lRelLA",
          "dtype": "f8"
         },
         "marker": {
          "color": "#19d3f3",
          "size": {
           "bdata": "AQEBAQEBAQEB",
           "dtype": "i1"
          },
          "sizemode": "area",
          "sizeref": 0.015625
         },
         "mode": "markers",
         "name": "device_perezantonio",
         "showlegend": true,
         "subplot": "map",
         "type": "scattermap"
        },
        {
         "customdata": [
          [
           "device_0c9104",
           "2025-03-03T02:50:00"
          ],
          [
           "device_0c9104",
           "2025-03-04T02:43:00"
          ],
          [
           "device_0c9104",
           "2025-03-05T02:03:00"
          ],
          [
           "device_0c9104",
           "2025-03-05T02:51:00"
          ],
          [
           "device_0c9104",
           "2025-03-04T02:26:00"
          ],
          [
           "device_0c9104",
           "2025-03-04T02:03:00"
          ],
          [
           "device_0c9104",
           "2025-03-05T02:15:00"
          ],
          [
           "device_0c9104",
           "2025-03-04T02:55:00"
          ],
          [
           "device_0c9104",
           "2025-03-03T02:06:00"
          ],
          [
           "device_0c9104",
           "2025-03-05T02:08:00"
          ]
         ],
         "hovertemplate": "<b>%{hovertext}</b><br><br>device_id=%{customdata[0]}<br>size=%{marker.size}<br>lat=%{lat}<br>lon=%{lon}<br>timestamp=%{customdata[1]}<extra></extra>",
         "hovertext": [
          "device_0c9104",
          "device_0c9104",
          "device_0c9104",
          "device_0c9104",
          "device_0c9104",
          "device_0c9104",
          "device_0c9104",
          "device_0c9104",
          "device_0c9104",
          "device_0c9104"
         ],
         "lat": {
          "bdata": "ui9ntitaREDdJ0cBolpEQLSULCehWkRAAiocQSpbREDgoSjQJ1pEQJaxoZv9WURAEF1Q3zJbRECBIatbPVlEQEonEkw1WURAv2GiQQpaREA=",
          "dtype": "f8"
         },
         "legendgroup": "device_0c9104",
         "lon": {
          "bdata": "xQJf0a16UsDb3QN0X3pSwFKZYg6CelLAePF+3H56UsAl7NtJRHpSwK4upwTEelLAh4cwfhp7UsDKh6Bq9HpSwHDvGvSlelLAnX+77Nd6UsA=",
          "dtype": "f8"
         },
         "marker": {
          "color": "#FF6692",
          "size": {
           "bdata": "AQEBAQEBAQEBAQ==",
           "dtype": "i1"
          },
          "sizemode": "area",
          "sizeref": 0.015625
         },
         "mode": "markers",
         "name": "device_0c9104",
         "showlegend": true,
         "subplot": "map",
         "type": "scattermap"
        },
        {
         "customdata": [
          [
           "device_b0de01",
           "2025-03-03T02:05:00"
          ],
          [
           "device_b0de01",
           "2025-03-05T02:27:00"
          ],
          [
           "device_b0de01",
           "2025-03-03T02:09:00"
          ],
          [
           "device_b0de01",
           "2025-03-04T02:43:00"
          ],
          [
           "device_b0de01",
           "2025-03-03T02:38:00"
          ],
          [
           "device_b0de01",
           "2025-03-05T02:46:00"
          ],
          [
           "device_b0de01",
           "2025-03-03T02:27:00"
          ],
          [
           "device_b0de01",
           "2025-03-05T02:49:00"
          ]
         ],
         "hovertemplate": "<b>%{hovertext}</b><br><br>device_id=%{customdata[0]}<br>size=%{marker.size}<br>lat=%{lat}<br>lon=%{lon}<br>timestamp=%{customdata[1]}<extra></extra>",
         "hovertext": [
          "device_b0de01",
          "device_b0de01",
          "device_b0de01",
          "device_b0de01",
          "device_b0de01",
          "device_b0de01",
          "device_b0de01",
          "device_b0de01"
         ],
         "lat": {
          "bdata": "5C7CFOVaREB9I7pnXVlEQKSoM/eQWkRAi6n0E85aREBwmGiQgltEQAlszsEzW0RAN1DgnXxaREBkPiDQmVpEQA==",
          "dtype": "f8"
         },
         "legendgroup": "device_b0de01",
         "lon": {
          "bdata": "z4HlCBl6UsBA+5EiMntSwGU5CaUvelLA7SsP0lN6UsDrNxPThXpSwGtFm+PcelLARN0HILV6UsDPMLWlDntSwA==",
          "dtype": "f8"
         },
         "marker": {
          "color": "#B6E880",
          "size": {
           "bdata": "AQEBAQEBAQE=",
           "dtype": "i1"
          },
          "sizemode": "area",
          "sizeref": 0.015625
         },
         "mode": "markers",
         "name": "device_b0de01",
         "showlegend": true,
         "subplot": "map",
         "type": "scattermap"
        },
        {
         "customdata": [
          [
           "device_9cdf46",
           "2025-03-03T02:19:00"
          ],
          [
           "device_9cdf46",
           "2025-03-04T02:09:00"
          ],
          [
           "device_9cdf46",
           "2025-03-05T02:31:00"
          ],
          [
           "device_9cdf46",
           "2025-03-04T02:49:00"
          ],
          [
           "device_9cdf46",
           "2025-03-05T02:56:00"
          ],
          [
           "device_9cdf46",
           "2025-03-03T02:32:00"
          ],
          [
           "device_9cdf46",
           "2025-03-05T02:15:00"
          ]
         ],
         "hovertemplate": "<b>%{hovertext}</b><br><br>device_id=%{customdata[0]}<br>size=%{marker.size}<br>lat=%{lat}<br>lon=%{lon}<br>timestamp=%{customdata[1]}<extra></extra>",
         "hovertext": [
          "device_9cdf46",
          "device_9cdf46",
          "device_9cdf46",
          "device_9cdf46",
          "device_9cdf46",
          "device_9cdf46",
          "device_9cdf46"
         ],
         "lat": {
          "bdata": "Vpv/Vx1bREBqFJLM6llEQJT7HYoCWURAlC79S1JbRECjIHh8e1tEQA9j0t9LW0RAdej0vBtZREA=",
          "dtype": "f8"
         },
         "legendgroup": "device_9cdf46",
         "lon": {
          "bdata": "/3Vu2ox6UsDdXWdD/npSwF6gpMACelLApOTVOQZ6UsCp3hrYKnpSwE4LXvQVelLAQ8U4fxN6UsA=",
          "dtype": "f8"
         },
         "marker": {
          "color": "#FF97FF",
          "size": {
           "bdata": "AQEBAQEBAQ==",
           "dtype": "i1"
          },
          "sizemode": "area",
          "sizeref": 0.015625
         },
         "mode": "markers",
         "name": "device_9cdf46",
         "showlegend": true,
         "subplot": "map",
         "type": "scattermap"
        },
        {
         "customdata": [
          [
           "device_c463ec",
           "2025-03-04T02:00:00"
          ],
          [
           "device_c463ec",
           "2025-03-05T02:59:00"
          ],
          [
           "device_c463ec",
           "2025-03-03T02:21:00"
          ],
          [
           "device_c463ec",
           "2025-03-04T02:14:00"
          ],
          [
           "device_c463ec",
           "2025-03-05T02:04:00"
          ],
          [
           "device_c463ec",
           "2025-03-05T02:31:00"
          ]
         ],
         "hovertemplate": "<b>%{hovertext}</b><br><br>device_id=%{customdata[0]}<br>size=%{marker.size}<br>lat=%{lat}<br>lon=%{lon}<br>timestamp=%{customdata[1]}<extra></extra>",
         "hovertext": [
          "device_c463ec",
          "device_c463ec",
          "device_c463ec",
          "device_c463ec",
          "device_c463ec",
          "device_c463ec"
         ],
         "lat": {
          "bdata": "4iNiSiRZRECox7YMOFtEQM/5KY4DWURASFFn7iFZREBftp22RlpEQKzKviuCWURA",
          "dtype": "f8"
         },
         "legendgroup": "device_c463ec",
         "lon": {
          "bdata": "weWxZmR6UsCUawpkdnpSwBNGs7J9elLApFUt6Sh7UsCGPe3w13pSwG1VEtkHe1LA",
          "dtype": "f8"
         },
         "marker": {
          "color": "#FECB52",
          "size": {
           "bdata": "AQEBAQEB",
           "dtype": "i1"
          },
          "sizemode": "area",
          "sizeref": 0.015625
         },
         "mode": "markers",
         "name": "device_c463ec",
         "showlegend": true,
         "subplot": "map",
         "type": "scattermap"
        },
        {
         "customdata": [
          [
           "device_calebsmith",
           "2025-03-04T02:40:00"
          ]
         ],
         "hovertemplate": "<b>%{hovertext}</b><br><br>device_id=%{customdata[0]}<br>size=%{marker.size}<br>lat=%{lat}<br>lon=%{lon}<br>timestamp=%{customdata[1]}<extra></extra>",
         "hovertext": [
          "device_calebsmith"
         ],
         "lat": {
          "bdata": "xLEubqNZREA=",
          "dtype": "f8"
         },
         "legendgroup": "device_calebsmith",
         "lon": {
          "bdata": "v30dOGd6UsA=",
          "dtype": "f8"
         },
         "marker": {
          "color": "#636efa",
          "size": {
           "bdata": "AQ==",
           "dtype": "i1"
          },
          "sizemode": "area",
          "sizeref": 0.015625
         },
         "mode": "markers",
         "name": "device_calebsmith",
         "showlegend": true,
         "subplot": "map",
         "type": "scattermap"
        },
        {
         "customdata": [
          [
           "108 Linden St, Queens, NY",
           "2025-03-05T02:07:00"
          ]
         ],
         "hovertemplate": "<b>%{hovertext}</b><br><br>device_id=%{customdata[0]}<br>size=%{marker.size}<br>lat=%{lat}<br>lon=%{lon}<br>timestamp=%{customdata[1]}<extra></extra>",
         "hovertext": [
          "108 Linden St, Queens, NY"
         ],
         "lat": {
          "bdata": "KzJz57ZYREA=",
          "dtype": "f8"
         },
         "legendgroup": "108 Linden St, Queens, NY",
         "lon": {
          "bdata": "59Le+td6UsA=",
          "dtype": "f8"
         },
         "marker": {
          "color": "#EF553B",
          "size": {
           "bdata": "AQ==",
           "dtype": "i1"
          },
          "sizemode": "area",
          "sizeref": 0.015625
         },
         "mode": "markers",
         "name": "108 Linden St, Queens, NY",
         "showlegend": true,
         "subplot": "map",
         "type": "scattermap"
        },
        {
         "customdata": [
          [
           "104 Linden St, Queens, NY",
           "2025-03-04T02:29:00"
          ]
         ],
         "hovertemplate": "<b>%{hovertext}</b><br><br>device_id=%{customdata[0]}<br>size=%{marker.size}<br>lat=%{lat}<br>lon=%{lon}<br>timestamp=%{customdata[1]}<extra></extra>",
         "hovertext": [
          "104 Linden St, Queens, NY"
         ],
         "lat": {
          "bdata": "zOZ7M7FYREA=",
          "dtype": "f8"
         },
         "legendgroup": "104 Linden St, Queens, NY",
         "lon": {
          "bdata": "RZlq2Np6UsA=",
          "dtype": "f8"
         },
         "marker": {
          "color": "#00cc96",
          "size": {
           "bdata": "AQ==",
           "dtype": "i1"
          },
          "sizemode": "area",
          "sizeref": 0.015625
         },
         "mode": "markers",
         "name": "104 Linden St, Queens, NY",
         "showlegend": true,
         "subplot": "map",
         "type": "scattermap"
        },
        {
         "customdata": [
          [
           "102 Linden St, Queens, NY",
           "2025-03-03T02:13:00"
          ]
         ],
         "hovertemplate": "<b>%{hovertext}</b><br><br>device_id=%{customdata[0]}<br>size=%{marker.size}<br>lat=%{lat}<br>lon=%{lon}<br>timestamp=%{customdata[1]}<extra></extra>",
         "hovertext": [
          "102 Linden St, Queens, NY"
         ],
         "lat": {
          "bdata": "ZuaRBbFYREA=",
          "dtype": "f8"
         },
         "legendgroup": "102 Linden St, Queens, NY",
         "lon": {
          "bdata": "ccbA+tt6UsA=",
          "dtype": "f8"
         },
         "marker": {
          "color": "#ab63fa",
          "size": {
           "bdata": "AQ==",
           "dtype": "i1"
          },
          "sizemode": "area",
          "sizeref": 0.015625
         },
         "mode": "markers",
         "name": "102 Linden St, Queens, NY",
         "showlegend": true,
         "subplot": "map",
         "type": "scattermap"
        },
        {
         "lat": {
          "bdata": "nu+nxktXREAhVGRSOFdEQA06MYYgV0RADEyZTRhXREDXo3A9CldEQA==",
          "dtype": "f8"
         },
         "lon": {
          "bdata": "N4lBYOV8UsD8soxIBn1SwMXMU0kEfVLAfmhPPcV8UsDNzMzMzHxSwA==",
          "dtype": "f8"
         },
         "mode": "lines",
         "type": "scattermap"
        },
        {
         "lat": [
          40.69978076910485,
          40.69964932762476,
          40.699251077974914,
          40.69930797092782,
          40.70103827823207
         ],
         "lon": [
          -73.91432519509586,
          -73.91448821857594,
          -73.91414405789575,
          -73.91362393536407,
          -73.91190313191963
         ],
         "mode": "lines",
         "type": "scattermap"
        }
       ],
       "layout": {
        "height": 1080,
        "legend": {
         "itemsizing": "constant",
         "title": {
          "text": "device_id"
         },
         "tracegroupgap": 0
        },
        "map": {
         "center": {
          "lat": 40.70435390809744,
          "lon": -73.91519305944337
         },
         "domain": {
          "x": [
           0,
           1
          ],
          "y": [
           0,
           1
          ]
         },
         "zoom": 8
        },
        "mapbox": {
         "center": {
          "lat": 40.70435390809744,
          "lon": -73.91519305944337
         },
         "style": "open-street-map",
         "zoom": 8
        },
        "margin": {
         "b": 0,
         "l": 0,
         "r": 0,
         "t": 0
        },
        "template": {
         "data": {
          "bar": [
           {
            "error_x": {
             "color": "#2a3f5f"
            },
            "error_y": {
             "color": "#2a3f5f"
            },
            "marker": {
             "line": {
              "color": "#E5ECF6",
              "width": 0.5
             },
             "pattern": {
              "fillmode": "overlay",
              "size": 10,
              "solidity": 0.2
             }
            },
            "type": "bar"
           }
          ],
          "barpolar": [
           {
            "marker": {
             "line": {
              "color": "#E5ECF6",
              "width": 0.5
             },
             "pattern": {
              "fillmode": "overlay",
              "size": 10,
              "solidity": 0.2
             }
            },
            "type": "barpolar"
           }
          ],
          "carpet": [
           {
            "aaxis": {
             "endlinecolor": "#2a3f5f",
             "gridcolor": "white",
             "linecolor": "white",
             "minorgridcolor": "white",
             "startlinecolor": "#2a3f5f"
            },
            "baxis": {
             "endlinecolor": "#2a3f5f",
             "gridcolor": "white",
             "linecolor": "white",
             "minorgridcolor": "white",
             "startlinecolor": "#2a3f5f"
            },
            "type": "carpet"
           }
          ],
          "choropleth": [
           {
            "colorbar": {
             "outlinewidth": 0,
             "ticks": ""
            },
            "type": "choropleth"
           }
          ],
          "contour": [
           {
            "colorbar": {
             "outlinewidth": 0,
             "ticks": ""
            },
            "colorscale": [
             [
              0,
              "#0d0887"
             ],
             [
              0.1111111111111111,
              "#46039f"
             ],
             [
              0.2222222222222222,
              "#7201a8"
             ],
             [
              0.3333333333333333,
              "#9c179e"
             ],
             [
              0.4444444444444444,
              "#bd3786"
             ],
             [
              0.5555555555555556,
              "#d8576b"
             ],
             [
              0.6666666666666666,
              "#ed7953"
             ],
             [
              0.7777777777777778,
              "#fb9f3a"
             ],
             [
              0.8888888888888888,
              "#fdca26"
             ],
             [
              1,
              "#f0f921"
             ]
            ],
            "type": "contour"
           }
          ],
          "contourcarpet": [
           {
            "colorbar": {
             "outlinewidth": 0,
             "ticks": ""
            },
            "type": "contourcarpet"
           }
          ],
          "heatmap": [
           {
            "colorbar": {
             "outlinewidth": 0,
             "ticks": ""
            },
            "colorscale": [
             [
              0,
              "#0d0887"
             ],
             [
              0.1111111111111111,
              "#46039f"
             ],
             [
              0.2222222222222222,
              "#7201a8"
             ],
             [
              0.3333333333333333,
              "#9c179e"
             ],
             [
              0.4444444444444444,
              "#bd3786"
             ],
             [
              0.5555555555555556,
              "#d8576b"
             ],
             [
              0.6666666666666666,
              "#ed7953"
             ],
             [
              0.7777777777777778,
              "#fb9f3a"
             ],
             [
              0.8888888888888888,
              "#fdca26"
             ],
             [
              1,
              "#f0f921"
             ]
            ],
            "type": "heatmap"
           }
          ],
          "histogram": [
           {
            "marker": {
             "pattern": {
              "fillmode": "overlay",
              "size": 10,
              "solidity": 0.2
             }
            },
            "type": "histogram"
           }
          ],
          "histogram2d": [
           {
            "colorbar": {
             "outlinewidth": 0,
             "ticks": ""
            },
            "colorscale": [
             [
              0,
              "#0d0887"
             ],
             [
              0.1111111111111111,
              "#46039f"
             ],
             [
              0.2222222222222222,
              "#7201a8"
             ],
             [
              0.3333333333333333,
              "#9c179e"
             ],
             [
              0.4444444444444444,
              "#bd3786"
             ],
             [
              0.5555555555555556,
              "#d8576b"
             ],
             [
              0.6666666666666666,
              "#ed7953"
             ],
             [
              0.7777777777777778,
              "#fb9f3a"
             ],
             [
              0.8888888888888888,
              "#fdca26"
             ],
             [
              1,
              "#f0f921"
             ]
            ],
            "type": "histogram2d"
           }
          ],
          "histogram2dcontour": [
           {
            "colorbar": {
             "outlinewidth": 0,
             "ticks": ""
            },
            "colorscale": [
             [
              0,
              "#0d0887"
             ],
             [
              0.1111111111111111,
              "#46039f"
             ],
             [
              0.2222222222222222,
              "#7201a8"
             ],
             [
              0.3333333333333333,
              "#9c179e"
             ],
             [
              0.4444444444444444,
              "#bd3786"
             ],
             [
              0.5555555555555556,
              "#d8576b"
             ],
             [
              0.6666666666666666,
              "#ed7953"
             ],
             [
              0.7777777777777778,
              "#fb9f3a"
             ],
             [
              0.8888888888888888,
              "#fdca26"
             ],
             [
              1,
              "#f0f921"
             ]
            ],
            "type": "histogram2dcontour"
           }
          ],
          "mesh3d": [
           {
            "colorbar": {
             "outlinewidth": 0,
             "ticks": ""
            },
            "type": "mesh3d"
           }
          ],
          "parcoords": [
           {
            "line": {
             "colorbar": {
              "outlinewidth": 0,
              "ticks": ""
             }
            },
            "type": "parcoords"
           }
          ],
          "pie": [
           {
            "automargin": true,
            "type": "pie"
           }
          ],
          "scatter": [
           {
            "fillpattern": {
             "fillmode": "overlay",
             "size": 10,
             "solidity": 0.2
            },
            "type": "scatter"
           }
          ],
          "scatter3d": [
           {
            "line": {
             "colorbar": {
              "outlinewidth": 0,
              "ticks": ""
             }
            },
            "marker": {
             "colorbar": {
              "outlinewidth": 0,
              "ticks": ""
             }
            },
            "type": "scatter3d"
           }
          ],
          "scattercarpet": [
           {
            "marker": {
             "colorbar": {
              "outlinewidth": 0,
              "ticks": ""
             }
            },
            "type": "scattercarpet"
           }
          ],
          "scattergeo": [
           {
            "marker": {
             "colorbar": {
              "outlinewidth": 0,
              "ticks": ""
             }
            },
            "type": "scattergeo"
           }
          ],
          "scattergl": [
           {
            "marker": {
             "colorbar": {
              "outlinewidth": 0,
              "ticks": ""
             }
            },
            "type": "scattergl"
           }
          ],
          "scattermap": [
           {
            "marker": {
             "colorbar": {
              "outlinewidth": 0,
              "ticks": ""
             }
            },
            "type": "scattermap"
           }
          ],
          "scattermapbox": [
           {
            "marker": {
             "colorbar": {
              "outlinewidth": 0,
              "ticks": ""
             }
            },
            "type": "scattermapbox"
           }
          ],
          "scatterpolar": [
           {
            "marker": {
             "colorbar": {
              "outlinewidth": 0,
              "ticks": ""
             }
            },
            "type": "scatterpolar"
           }
          ],
          "scatterpolargl": [
           {
            "marker": {
             "colorbar": {
              "outlinewidth": 0,
              "ticks": ""
             }
            },
            "type": "scatterpolargl"
           }
          ],
          "scatterternary": [
           {
            "marker": {
             "colorbar": {
              "outlinewidth": 0,
              "ticks": ""
             }
            },
            "type": "scatterternary"
           }
          ],
          "surface": [
           {
            "colorbar": {
             "outlinewidth": 0,
             "ticks": ""
            },
            "colorscale": [
             [
              0,
              "#0d0887"
             ],
             [
              0.1111111111111111,
              "#46039f"
             ],
             [
              0.2222222222222222,
              "#7201a8"
             ],
             [
              0.3333333333333333,
              "#9c179e"
             ],
             [
              0.4444444444444444,
              "#bd3786"
             ],
             [
              0.5555555555555556,
              "#d8576b"
             ],
             [
              0.6666666666666666,
              "#ed7953"
             ],
             [
              0.7777777777777778,
              "#fb9f3a"
             ],
             [
              0.8888888888888888,
              "#fdca26"
             ],
             [
              1,
              "#f0f921"
             ]
            ],
            "type": "surface"
           }
          ],
          "table": [
           {
            "cells": {
             "fill": {
              "color": "#EBF0F8"
             },
             "line": {
              "color": "white"
             }
            },
            "header": {
             "fill": {
              "color": "#C8D4E3"
             },
             "line": {
              "color": "white"
             }
            },
            "type": "table"
           }
          ]
         },
         "layout": {
          "annotationdefaults": {
           "arrowcolor": "#2a3f5f",
           "arrowhead": 0,
           "arrowwidth": 1
          },
          "autotypenumbers": "strict",
          "coloraxis": {
           "colorbar": {
            "outlinewidth": 0,
            "ticks": ""
           }
          },
          "colorscale": {
           "diverging": [
            [
             0,
             "#8e0152"
            ],
            [
             0.1,
             "#c51b7d"
            ],
            [
             0.2,
             "#de77ae"
            ],
            [
             0.3,
             "#f1b6da"
            ],
            [
             0.4,
             "#fde0ef"
            ],
            [
             0.5,
             "#f7f7f7"
            ],
            [
             0.6,
             "#e6f5d0"
            ],
            [
             0.7,
             "#b8e186"
            ],
            [
             0.8,
             "#7fbc41"
            ],
            [
             0.9,
             "#4d9221"
            ],
            [
             1,
             "#276419"
            ]
           ],
           "sequential": [
            [
             0,
             "#0d0887"
            ],
            [
             0.1111111111111111,
             "#46039f"
            ],
            [
             0.2222222222222222,
             "#7201a8"
            ],
            [
             0.3333333333333333,
             "#9c179e"
            ],
            [
             0.4444444444444444,
             "#bd3786"
            ],
            [
             0.5555555555555556,
             "#d8576b"
            ],
            [
             0.6666666666666666,
             "#ed7953"
            ],
            [
             0.7777777777777778,
             "#fb9f3a"
            ],
            [
             0.8888888888888888,
             "#fdca26"
            ],
            [
             1,
             "#f0f921"
            ]
           ],
           "sequentialminus": [
            [
             0,
             "#0d0887"
            ],
            [
             0.1111111111111111,
             "#46039f"
            ],
            [
             0.2222222222222222,
             "#7201a8"
            ],
            [
             0.3333333333333333,
             "#9c179e"
            ],
            [
             0.4444444444444444,
             "#bd3786"
            ],
            [
             0.5555555555555556,
             "#d8576b"
            ],
            [
             0.6666666666666666,
             "#ed7953"
            ],
            [
             0.7777777777777778,
             "#fb9f3a"
            ],
            [
             0.8888888888888888,
             "#fdca26"
            ],
            [
             1,
             "#f0f921"
            ]
           ]
          },
          "colorway": [
           "#636efa",
           "#EF553B",
           "#00cc96",
           "#ab63fa",
           "#FFA15A",
           "#19d3f3",
           "#FF6692",
           "#B6E880",
           "#FF97FF",
           "#FECB52"
          ],
          "font": {
           "color": "#2a3f5f"
          },
          "geo": {
           "bgcolor": "white",
           "lakecolor": "white",
           "landcolor": "#E5ECF6",
           "showlakes": true,
           "showland": true,
           "subunitcolor": "white"
          },
          "hoverlabel": {
           "align": "left"
          },
          "hovermode": "closest",
          "mapbox": {
           "style": "light"
          },
          "paper_bgcolor": "white",
          "plot_bgcolor": "#E5ECF6",
          "polar": {
           "angularaxis": {
            "gridcolor": "white",
            "linecolor": "white",
            "ticks": ""
           },
           "bgcolor": "#E5ECF6",
           "radialaxis": {
            "gridcolor": "white",
            "linecolor": "white",
            "ticks": ""
           }
          },
          "scene": {
           "xaxis": {
            "backgroundcolor": "#E5ECF6",
            "gridcolor": "white",
            "gridwidth": 2,
            "linecolor": "white",
            "showbackground": true,
            "ticks": "",
            "zerolinecolor": "white"
           },
           "yaxis": {
            "backgroundcolor": "#E5ECF6",
            "gridcolor": "white",
            "gridwidth": 2,
            "linecolor": "white",
            "showbackground": true,
            "ticks": "",
            "zerolinecolor": "white"
           },
           "zaxis": {
            "backgroundcolor": "#E5ECF6",
            "gridcolor": "white",
            "gridwidth": 2,
            "linecolor": "white",
            "showbackground": true,
            "ticks": "",
            "zerolinecolor": "white"
           }
          },
          "shapedefaults": {
           "line": {
            "color": "#2a3f5f"
           }
          },
          "ternary": {
           "aaxis": {
            "gridcolor": "white",
            "linecolor": "white",
            "ticks": ""
           },
           "baxis": {
            "gridcolor": "white",
            "linecolor": "white",
            "ticks": ""
           },
           "bgcolor": "#E5ECF6",
           "caxis": {
            "gridcolor": "white",
            "linecolor": "white",
            "ticks": ""
           }
          },
          "title": {
           "x": 0.05
          },
          "xaxis": {
           "automargin": true,
           "gridcolor": "white",
           "linecolor": "white",
           "ticks": "",
           "title": {
            "standoff": 15
           },
           "zerolinecolor": "white",
           "zerolinewidth": 2
          },
          "yaxis": {
           "automargin": true,
           "gridcolor": "white",
           "linecolor": "white",
           "ticks": "",
           "title": {
            "standoff": 15
           },
           "zerolinecolor": "white",
           "zerolinewidth": 2
          }
         }
        },
        "width": 1920
       }
      }
     },
     "metadata": {},
     "output_type": "display_data"
    }
   ],
   "source": [
    "import plotly.express as px\n",
    "import plotly.graph_objects as go\n",
    "\n",
    "size = pd.Series([1 for x in range(len(df))])\n",
    "\n",
    "color_scale = [(0, 'orange'), (1,'red')]\n",
    "\n",
    "fig = px.scatter_map(df, \n",
    "                        lat=\"lat\", \n",
    "                        lon=\"lon\", \n",
    "                        hover_name=\"device_id\", \n",
    "                        hover_data=[\"device_id\", \"timestamp\"],\n",
    "                        color=\"device_id\",\n",
    "                        color_continuous_scale=color_scale,\n",
    "                        zoom=8, \n",
    "                        size=size,\n",
    "                        size_max=8,\n",
    "                        height=1080,\n",
    "                        width=1920)\n",
    "\n",
    "df3 = pd.read_excel(\"1.xlsx\")\n",
    "bike_path = go.Scattermap(lat=df3[\"lat\"], lon = df3[\"lon\"], mode=\"lines\")\n",
    "bike_path2 = go.Scattermap(lat=op[\"jamal_reyes\"][\"BK304\"][\"lat\"], lon = op[\"jamal_reyes\"][\"BK304\"][\"lon\"], mode=\"lines\")\n",
    "fig.add_trace(bike_path)\n",
    "fig.add_trace(bike_path2)\n",
    "\n",
    "fig.update_layout(mapbox_style=\"open-street-map\")\n",
    "fig.update_layout(margin={\"r\":0,\"t\":0,\"l\":0,\"b\":0})\n",
    "fig.show()"
   ]
  }
 ],
 "metadata": {
  "kernelspec": {
   "display_name": "Python 3",
   "language": "python",
   "name": "python3"
  },
  "language_info": {
   "codemirror_mode": {
    "name": "ipython",
    "version": 3
   },
   "file_extension": ".py",
   "mimetype": "text/x-python",
   "name": "python",
   "nbconvert_exporter": "python",
   "pygments_lexer": "ipython3",
   "version": "3.13.2"
  }
 },
 "nbformat": 4,
 "nbformat_minor": 5
}
